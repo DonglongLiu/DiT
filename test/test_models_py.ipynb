{
 "cells": [
  {
   "cell_type": "code",
   "execution_count": 10,
   "metadata": {},
   "outputs": [
    {
     "data": {
      "text/plain": [
       "tensor([-0.0000, -2.3026, -4.6052, -6.9078])"
      ]
     },
     "execution_count": 10,
     "metadata": {},
     "output_type": "execute_result"
    }
   ],
   "source": [
    "import torch\n",
    "import math\n",
    "\n",
    "dim = 8\n",
    "max_period = 10000\n",
    "t = torch.arange(0, 10)\n",
    "half = dim // 2\n",
    "freqs = torch.exp(\n",
    "    -math.log(max_period) * torch.arange(start=0, end=half, dtype=torch.float32) / half\n",
    ").to(device=t.device)\n",
    "args = t[:, None].float() * freqs[None]\n",
    "embedding = torch.cat([torch.cos(args), torch.sin(args)], dim=-1)\n",
    "if dim % 2:\n",
    "    embedding = torch.cat([embedding, torch.zeros_like(embedding[:, :1])], dim=-1)\n",
    "-math.log(max_period) * torch.arange(start=0, end=half, dtype=torch.float32) / half"
   ]
  }
 ],
 "metadata": {
  "kernelspec": {
   "display_name": "pytorch",
   "language": "python",
   "name": "python3"
  },
  "language_info": {
   "codemirror_mode": {
    "name": "ipython",
    "version": 3
   },
   "file_extension": ".py",
   "mimetype": "text/x-python",
   "name": "python",
   "nbconvert_exporter": "python",
   "pygments_lexer": "ipython3",
   "version": "3.9.16"
  }
 },
 "nbformat": 4,
 "nbformat_minor": 2
}
